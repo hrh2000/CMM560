{
  "cells": [
    {
      "cell_type": "markdown",
      "metadata": {
        "id": "view-in-github",
        "colab_type": "text"
      },
      "source": [
        "<a href=\"https://colab.research.google.com/github/hrh2000/CMM560/blob/main/CMM560_data_loading_tutorial(Github(hhrepo)).ipynb\" target=\"_parent\"><img src=\"https://colab.research.google.com/assets/colab-badge.svg\" alt=\"Open In Colab\"/></a>"
      ]
    },
    {
      "cell_type": "markdown",
      "source": [
        "In this version, by simply running the following cell you get all the data you need!"
      ],
      "metadata": {
        "id": "fA6faA1aim0l"
      }
    },
    {
      "cell_type": "code",
      "source": [
        "#!git clone https://github.com/hrh2000/CMM560"
      ],
      "metadata": {
        "id": "Yug32sBlVmn5",
        "outputId": "dc088273-b433-4b7b-8533-0b9501259b1d",
        "colab": {
          "base_uri": "https://localhost:8080/"
        }
      },
      "execution_count": null,
      "outputs": [
        {
          "output_type": "stream",
          "name": "stdout",
          "text": [
            "Cloning into 'CMM560_Data_Loading_Tutorial'...\n",
            "remote: Enumerating objects: 26, done.\u001b[K\n",
            "remote: Counting objects: 100% (26/26), done.\u001b[K\n",
            "remote: Compressing objects: 100% (23/23), done.\u001b[K\n",
            "remote: Total 26 (delta 6), reused 12 (delta 1), pack-reused 0\u001b[K\n",
            "Unpacking objects: 100% (26/26), 758.09 KiB | 4.77 MiB/s, done.\n"
          ]
        }
      ]
    },
    {
      "cell_type": "markdown",
      "metadata": {
        "id": "3Cu_nfHxVgIJ"
      },
      "source": [
        "# Version 1: Converting your image repository into numpy arrays"
      ]
    },
    {
      "cell_type": "code",
      "execution_count": 5,
      "metadata": {
        "id": "iTKiSVy4VgIL",
        "outputId": "d919bbab-45d0-4944-f551-f0d4af3fb5ee",
        "colab": {
          "base_uri": "https://localhost:8080/"
        }
      },
      "outputs": [
        {
          "output_type": "stream",
          "name": "stdout",
          "text": [
            "[]\n",
            "(0,)\n",
            "[]\n",
            "0\n"
          ]
        }
      ],
      "source": [
        "import os\n",
        "import numpy as np\n",
        "import cv2\n",
        "resize_width = 100\n",
        "resize_height = 100\n",
        "#path = '/content/CMM560_Data_Loading_Tutorial/data' # THIS IS APPLICABLE FOR EVERYONE! NO NEED TO CHANGE\n",
        "path = '/content/CMM560/data' # HH repo data\n",
        "resized_images = [] # List to append the images as 2D numpy arrays.\n",
        "target = [] # List to append the target\n",
        "flattened_images = [] # list to append the flattened pixels\n",
        "\n",
        "for root, dirs, files in os.walk(path):\n",
        "     for file in files:\n",
        "        with open(os.path.join(root, file), \"r\") as auto:\n",
        "            try:\n",
        "                img = cv2.imread(root+'/'+file, 0)\n",
        "                img = cv2.resize(img, (resize_width, resize_height)) \n",
        "                # Append the resized image to a list\n",
        "                resized_images.append(img)\n",
        "                # Append the flattened image to a list\n",
        "                flattened_images.append(img.flatten())\n",
        "                # Append the folder where the image is to the target list\n",
        "                target.append(root.replace(path,'').replace('\\\\','').replace('/',''))\n",
        "            except Exception as e:\n",
        "                print(\"Invalid file \"+file+\" skipped.\")\n",
        "# Convert the list into numpy array\n",
        "flattened_images = np.array(flattened_images) \n",
        "print(flattened_images)\n",
        "print(flattened_images.shape)\n",
        "print(target)\n",
        "print(len(target))"
      ]
    },
    {
      "cell_type": "markdown",
      "metadata": {
        "id": "4us34AkWVgIP"
      },
      "source": [
        "# Version 2: Converting your image repository into Pandas data frames"
      ]
    },
    {
      "cell_type": "code",
      "execution_count": null,
      "metadata": {
        "id": "WaE14M1zVgIR",
        "outputId": "c80b2ccc-362f-4a30-9bf6-f4c74fa78111",
        "colab": {
          "base_uri": "https://localhost:8080/",
          "height": 252
        }
      },
      "outputs": [
        {
          "output_type": "execute_result",
          "data": {
            "text/plain": [
              "     0    1    2    3    4    5    6    7    8    9  ...  616  617  618  619  \\\n",
              "0  206  155  149  153  153  153  151  153  152  153  ...  147  153  142  149   \n",
              "1   12   20    8   10   17    9   10   13   14   14  ...    7    8    8    4   \n",
              "2  190  192  190  192  192  190  193  192  198  146  ...   25   39   71   79   \n",
              "3   63   83   49  108  188   11   28  109   49  126  ...  120  101  133  179   \n",
              "4   97   95   92  160  153   78  165  198  118   96  ...  190  191  187  178   \n",
              "5  137   40   80   92  161  123  135  128  194   72  ...   19   19  118   15   \n",
              "\n",
              "   620  621  622  623  624   class  \n",
              "0  148  146  146  146  146  nomask  \n",
              "1    9    8   10    9  145  nomask  \n",
              "2   67   52   45   44   41    mask  \n",
              "3  178  136  127  117  128    mask  \n",
              "4  176  181  185  181  182    mask  \n",
              "5   18   15   30   24   12    mask  \n",
              "\n",
              "[6 rows x 626 columns]"
            ],
            "text/html": [
              "\n",
              "  <div id=\"df-4544371f-b2ab-494a-9471-90544811d27f\">\n",
              "    <div class=\"colab-df-container\">\n",
              "      <div>\n",
              "<style scoped>\n",
              "    .dataframe tbody tr th:only-of-type {\n",
              "        vertical-align: middle;\n",
              "    }\n",
              "\n",
              "    .dataframe tbody tr th {\n",
              "        vertical-align: top;\n",
              "    }\n",
              "\n",
              "    .dataframe thead th {\n",
              "        text-align: right;\n",
              "    }\n",
              "</style>\n",
              "<table border=\"1\" class=\"dataframe\">\n",
              "  <thead>\n",
              "    <tr style=\"text-align: right;\">\n",
              "      <th></th>\n",
              "      <th>0</th>\n",
              "      <th>1</th>\n",
              "      <th>2</th>\n",
              "      <th>3</th>\n",
              "      <th>4</th>\n",
              "      <th>5</th>\n",
              "      <th>6</th>\n",
              "      <th>7</th>\n",
              "      <th>8</th>\n",
              "      <th>9</th>\n",
              "      <th>...</th>\n",
              "      <th>616</th>\n",
              "      <th>617</th>\n",
              "      <th>618</th>\n",
              "      <th>619</th>\n",
              "      <th>620</th>\n",
              "      <th>621</th>\n",
              "      <th>622</th>\n",
              "      <th>623</th>\n",
              "      <th>624</th>\n",
              "      <th>class</th>\n",
              "    </tr>\n",
              "  </thead>\n",
              "  <tbody>\n",
              "    <tr>\n",
              "      <th>0</th>\n",
              "      <td>206</td>\n",
              "      <td>155</td>\n",
              "      <td>149</td>\n",
              "      <td>153</td>\n",
              "      <td>153</td>\n",
              "      <td>153</td>\n",
              "      <td>151</td>\n",
              "      <td>153</td>\n",
              "      <td>152</td>\n",
              "      <td>153</td>\n",
              "      <td>...</td>\n",
              "      <td>147</td>\n",
              "      <td>153</td>\n",
              "      <td>142</td>\n",
              "      <td>149</td>\n",
              "      <td>148</td>\n",
              "      <td>146</td>\n",
              "      <td>146</td>\n",
              "      <td>146</td>\n",
              "      <td>146</td>\n",
              "      <td>nomask</td>\n",
              "    </tr>\n",
              "    <tr>\n",
              "      <th>1</th>\n",
              "      <td>12</td>\n",
              "      <td>20</td>\n",
              "      <td>8</td>\n",
              "      <td>10</td>\n",
              "      <td>17</td>\n",
              "      <td>9</td>\n",
              "      <td>10</td>\n",
              "      <td>13</td>\n",
              "      <td>14</td>\n",
              "      <td>14</td>\n",
              "      <td>...</td>\n",
              "      <td>7</td>\n",
              "      <td>8</td>\n",
              "      <td>8</td>\n",
              "      <td>4</td>\n",
              "      <td>9</td>\n",
              "      <td>8</td>\n",
              "      <td>10</td>\n",
              "      <td>9</td>\n",
              "      <td>145</td>\n",
              "      <td>nomask</td>\n",
              "    </tr>\n",
              "    <tr>\n",
              "      <th>2</th>\n",
              "      <td>190</td>\n",
              "      <td>192</td>\n",
              "      <td>190</td>\n",
              "      <td>192</td>\n",
              "      <td>192</td>\n",
              "      <td>190</td>\n",
              "      <td>193</td>\n",
              "      <td>192</td>\n",
              "      <td>198</td>\n",
              "      <td>146</td>\n",
              "      <td>...</td>\n",
              "      <td>25</td>\n",
              "      <td>39</td>\n",
              "      <td>71</td>\n",
              "      <td>79</td>\n",
              "      <td>67</td>\n",
              "      <td>52</td>\n",
              "      <td>45</td>\n",
              "      <td>44</td>\n",
              "      <td>41</td>\n",
              "      <td>mask</td>\n",
              "    </tr>\n",
              "    <tr>\n",
              "      <th>3</th>\n",
              "      <td>63</td>\n",
              "      <td>83</td>\n",
              "      <td>49</td>\n",
              "      <td>108</td>\n",
              "      <td>188</td>\n",
              "      <td>11</td>\n",
              "      <td>28</td>\n",
              "      <td>109</td>\n",
              "      <td>49</td>\n",
              "      <td>126</td>\n",
              "      <td>...</td>\n",
              "      <td>120</td>\n",
              "      <td>101</td>\n",
              "      <td>133</td>\n",
              "      <td>179</td>\n",
              "      <td>178</td>\n",
              "      <td>136</td>\n",
              "      <td>127</td>\n",
              "      <td>117</td>\n",
              "      <td>128</td>\n",
              "      <td>mask</td>\n",
              "    </tr>\n",
              "    <tr>\n",
              "      <th>4</th>\n",
              "      <td>97</td>\n",
              "      <td>95</td>\n",
              "      <td>92</td>\n",
              "      <td>160</td>\n",
              "      <td>153</td>\n",
              "      <td>78</td>\n",
              "      <td>165</td>\n",
              "      <td>198</td>\n",
              "      <td>118</td>\n",
              "      <td>96</td>\n",
              "      <td>...</td>\n",
              "      <td>190</td>\n",
              "      <td>191</td>\n",
              "      <td>187</td>\n",
              "      <td>178</td>\n",
              "      <td>176</td>\n",
              "      <td>181</td>\n",
              "      <td>185</td>\n",
              "      <td>181</td>\n",
              "      <td>182</td>\n",
              "      <td>mask</td>\n",
              "    </tr>\n",
              "    <tr>\n",
              "      <th>5</th>\n",
              "      <td>137</td>\n",
              "      <td>40</td>\n",
              "      <td>80</td>\n",
              "      <td>92</td>\n",
              "      <td>161</td>\n",
              "      <td>123</td>\n",
              "      <td>135</td>\n",
              "      <td>128</td>\n",
              "      <td>194</td>\n",
              "      <td>72</td>\n",
              "      <td>...</td>\n",
              "      <td>19</td>\n",
              "      <td>19</td>\n",
              "      <td>118</td>\n",
              "      <td>15</td>\n",
              "      <td>18</td>\n",
              "      <td>15</td>\n",
              "      <td>30</td>\n",
              "      <td>24</td>\n",
              "      <td>12</td>\n",
              "      <td>mask</td>\n",
              "    </tr>\n",
              "  </tbody>\n",
              "</table>\n",
              "<p>6 rows × 626 columns</p>\n",
              "</div>\n",
              "      <button class=\"colab-df-convert\" onclick=\"convertToInteractive('df-4544371f-b2ab-494a-9471-90544811d27f')\"\n",
              "              title=\"Convert this dataframe to an interactive table.\"\n",
              "              style=\"display:none;\">\n",
              "        \n",
              "  <svg xmlns=\"http://www.w3.org/2000/svg\" height=\"24px\"viewBox=\"0 0 24 24\"\n",
              "       width=\"24px\">\n",
              "    <path d=\"M0 0h24v24H0V0z\" fill=\"none\"/>\n",
              "    <path d=\"M18.56 5.44l.94 2.06.94-2.06 2.06-.94-2.06-.94-.94-2.06-.94 2.06-2.06.94zm-11 1L8.5 8.5l.94-2.06 2.06-.94-2.06-.94L8.5 2.5l-.94 2.06-2.06.94zm10 10l.94 2.06.94-2.06 2.06-.94-2.06-.94-.94-2.06-.94 2.06-2.06.94z\"/><path d=\"M17.41 7.96l-1.37-1.37c-.4-.4-.92-.59-1.43-.59-.52 0-1.04.2-1.43.59L10.3 9.45l-7.72 7.72c-.78.78-.78 2.05 0 2.83L4 21.41c.39.39.9.59 1.41.59.51 0 1.02-.2 1.41-.59l7.78-7.78 2.81-2.81c.8-.78.8-2.07 0-2.86zM5.41 20L4 18.59l7.72-7.72 1.47 1.35L5.41 20z\"/>\n",
              "  </svg>\n",
              "      </button>\n",
              "      \n",
              "  <style>\n",
              "    .colab-df-container {\n",
              "      display:flex;\n",
              "      flex-wrap:wrap;\n",
              "      gap: 12px;\n",
              "    }\n",
              "\n",
              "    .colab-df-convert {\n",
              "      background-color: #E8F0FE;\n",
              "      border: none;\n",
              "      border-radius: 50%;\n",
              "      cursor: pointer;\n",
              "      display: none;\n",
              "      fill: #1967D2;\n",
              "      height: 32px;\n",
              "      padding: 0 0 0 0;\n",
              "      width: 32px;\n",
              "    }\n",
              "\n",
              "    .colab-df-convert:hover {\n",
              "      background-color: #E2EBFA;\n",
              "      box-shadow: 0px 1px 2px rgba(60, 64, 67, 0.3), 0px 1px 3px 1px rgba(60, 64, 67, 0.15);\n",
              "      fill: #174EA6;\n",
              "    }\n",
              "\n",
              "    [theme=dark] .colab-df-convert {\n",
              "      background-color: #3B4455;\n",
              "      fill: #D2E3FC;\n",
              "    }\n",
              "\n",
              "    [theme=dark] .colab-df-convert:hover {\n",
              "      background-color: #434B5C;\n",
              "      box-shadow: 0px 1px 3px 1px rgba(0, 0, 0, 0.15);\n",
              "      filter: drop-shadow(0px 1px 2px rgba(0, 0, 0, 0.3));\n",
              "      fill: #FFFFFF;\n",
              "    }\n",
              "  </style>\n",
              "\n",
              "      <script>\n",
              "        const buttonEl =\n",
              "          document.querySelector('#df-4544371f-b2ab-494a-9471-90544811d27f button.colab-df-convert');\n",
              "        buttonEl.style.display =\n",
              "          google.colab.kernel.accessAllowed ? 'block' : 'none';\n",
              "\n",
              "        async function convertToInteractive(key) {\n",
              "          const element = document.querySelector('#df-4544371f-b2ab-494a-9471-90544811d27f');\n",
              "          const dataTable =\n",
              "            await google.colab.kernel.invokeFunction('convertToInteractive',\n",
              "                                                     [key], {});\n",
              "          if (!dataTable) return;\n",
              "\n",
              "          const docLinkHtml = 'Like what you see? Visit the ' +\n",
              "            '<a target=\"_blank\" href=https://colab.research.google.com/notebooks/data_table.ipynb>data table notebook</a>'\n",
              "            + ' to learn more about interactive tables.';\n",
              "          element.innerHTML = '';\n",
              "          dataTable['output_type'] = 'display_data';\n",
              "          await google.colab.output.renderOutput(dataTable, element);\n",
              "          const docLink = document.createElement('div');\n",
              "          docLink.innerHTML = docLinkHtml;\n",
              "          element.appendChild(docLink);\n",
              "        }\n",
              "      </script>\n",
              "    </div>\n",
              "  </div>\n",
              "  "
            ]
          },
          "metadata": {},
          "execution_count": 3
        },
        {
          "output_type": "stream",
          "name": "stdout",
          "text": [
            "Warning: Total number of columns (626) exceeds max_columns (20) limiting to first (20) columns.\n"
          ]
        }
      ],
      "source": [
        "import os\n",
        "import numpy as np\n",
        "import cv2\n",
        "from pandas import DataFrame\n",
        "\n",
        "resize_width = 25\n",
        "resize_height = 25\n",
        "#path = '/content/CMM560_Data_Loading_Tutorial/data' # THIS IS APPLICABLE FOR EVERYONE! NO NEED TO CHANGE\n",
        "path = '/content/CMM560/data' # HH repo data\n",
        "resized_images = [] # List to append the images as 2D numpy arrays.\n",
        "target = [] # List to append the target\n",
        "\n",
        "cont = 0\n",
        "for root, dirs, files in os.walk(path):\n",
        "     for file in files:\n",
        "        with open(os.path.join(root, file), \"r\") as auto:\n",
        "            try:\n",
        "                img = cv2.imread(root+'/'+file, 0)\n",
        "                img = cv2.resize(img, (resize_width, resize_height)) \n",
        "                # Append the resized image to a list\n",
        "                resized_images.append(img)\n",
        "                # Append the flattened image to the list\n",
        "                if cont == 0:\n",
        "                    flattened_images = img.flatten().copy()\n",
        "                    cont+=1\n",
        "                else:\n",
        "                    flattened_images = np.vstack((flattened_images,img.flatten()))\n",
        "                # Append the folder where the image is to the target list\n",
        "                target.append(root.replace(path,'').replace('\\\\','').replace('/',''))\n",
        "            except Exception as e:\n",
        "                print(\"Invalid file \"+file+\" skipped.\")\n",
        "# Convert the list into a pandas dataframe\n",
        "flattened_images_withtarget = DataFrame(flattened_images) \n",
        "flattened_images_withtarget = abs(flattened_images_withtarget)\n",
        "flattened_images_withtarget['class']=DataFrame(target)\n",
        "flattened_images_withtarget"
      ]
    },
    {
      "cell_type": "code",
      "source": [
        "print(\"flattened_images_withtarget.head(1): \",flattened_images_withtarget.head(1))\n",
        "print(\"flattened_images_withtarget.tail: \",flattened_images_withtarget.tail)"
      ],
      "metadata": {
        "id": "caNzaqiBslaL",
        "outputId": "6b84eb74-c3d7-4eb3-ae52-6701c359026a",
        "colab": {
          "base_uri": "https://localhost:8080/"
        }
      },
      "execution_count": null,
      "outputs": [
        {
          "output_type": "stream",
          "name": "stdout",
          "text": [
            "flattened_images_withtarget.head:       0    1    2    3    4    5    6    7    8    9  ...  616  617  618  619  \\\n",
            "0  206  155  149  153  153  153  151  153  152  153  ...  147  153  142  149   \n",
            "\n",
            "   620  621  622  623  624   class  \n",
            "0  148  146  146  146  146  nomask  \n",
            "\n",
            "[1 rows x 626 columns]\n",
            "flattened_images_withtarget.tail:  <bound method NDFrame.tail of      0    1    2    3    4    5    6    7    8    9  ...  616  617  618  619  \\\n",
            "0  206  155  149  153  153  153  151  153  152  153  ...  147  153  142  149   \n",
            "1   12   20    8   10   17    9   10   13   14   14  ...    7    8    8    4   \n",
            "2  190  192  190  192  192  190  193  192  198  146  ...   25   39   71   79   \n",
            "3   63   83   49  108  188   11   28  109   49  126  ...  120  101  133  179   \n",
            "4   97   95   92  160  153   78  165  198  118   96  ...  190  191  187  178   \n",
            "5  137   40   80   92  161  123  135  128  194   72  ...   19   19  118   15   \n",
            "\n",
            "   620  621  622  623  624   class  \n",
            "0  148  146  146  146  146  nomask  \n",
            "1    9    8   10    9  145  nomask  \n",
            "2   67   52   45   44   41    mask  \n",
            "3  178  136  127  117  128    mask  \n",
            "4  176  181  185  181  182    mask  \n",
            "5   18   15   30   24   12    mask  \n",
            "\n",
            "[6 rows x 626 columns]>\n"
          ]
        }
      ]
    },
    {
      "cell_type": "code",
      "source": [
        "print(\"flattened_images_withtarget[dataframe rows 0:3(4) and cols 0:4(5)]: \",'\\n',flattened_images_withtarget.loc[0:3,0:4])"
      ],
      "metadata": {
        "id": "5kTsrsUztt2R",
        "outputId": "8a7a9d25-8901-45d2-d701-c37717a6d50b",
        "colab": {
          "base_uri": "https://localhost:8080/"
        }
      },
      "execution_count": null,
      "outputs": [
        {
          "output_type": "stream",
          "name": "stdout",
          "text": [
            "flattened_images_withtarget[dataframe rows 0:3(4) and cols 0:4(5)]:  \n",
            "      0    1    2    3    4\n",
            "0  206  155  149  153  153\n",
            "1   12   20    8   10   17\n",
            "2  190  192  190  192  192\n",
            "3   63   83   49  108  188\n"
          ]
        }
      ]
    },
    {
      "cell_type": "markdown",
      "metadata": {
        "id": "3rIKaW27VgIU"
      },
      "source": [
        "It is up to you to use the one you like the most!"
      ]
    }
  ],
  "metadata": {
    "hide_input": false,
    "kernelspec": {
      "display_name": "Python 3",
      "language": "python",
      "name": "python3"
    },
    "language_info": {
      "codemirror_mode": {
        "name": "ipython",
        "version": 3
      },
      "file_extension": ".py",
      "mimetype": "text/x-python",
      "name": "python",
      "nbconvert_exporter": "python",
      "pygments_lexer": "ipython3",
      "version": "3.7.3"
    },
    "varInspector": {
      "cols": {
        "lenName": 16,
        "lenType": 16,
        "lenVar": 40
      },
      "kernels_config": {
        "python": {
          "delete_cmd_postfix": "",
          "delete_cmd_prefix": "del ",
          "library": "var_list.py",
          "varRefreshCmd": "print(var_dic_list())"
        },
        "r": {
          "delete_cmd_postfix": ") ",
          "delete_cmd_prefix": "rm(",
          "library": "var_list.r",
          "varRefreshCmd": "cat(var_dic_list()) "
        }
      },
      "types_to_exclude": [
        "module",
        "function",
        "builtin_function_or_method",
        "instance",
        "_Feature"
      ],
      "window_display": false
    },
    "colab": {
      "provenance": [],
      "include_colab_link": true
    }
  },
  "nbformat": 4,
  "nbformat_minor": 0
}